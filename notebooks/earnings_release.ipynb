{
 "cells": [
  {
   "cell_type": "code",
   "execution_count": 2,
   "id": "66c1c185",
   "metadata": {},
   "outputs": [
    {
     "ename": "ModuleNotFoundError",
     "evalue": "No module named 'scripts'",
     "output_type": "error",
     "traceback": [
      "\u001b[0;31m---------------------------------------------------------------------------\u001b[0m",
      "\u001b[0;31mModuleNotFoundError\u001b[0m                       Traceback (most recent call last)",
      "Cell \u001b[0;32mIn[2], line 2\u001b[0m\n\u001b[1;32m      1\u001b[0m \u001b[38;5;28;01mfrom\u001b[39;00m \u001b[38;5;21;01mdatetime\u001b[39;00m \u001b[38;5;28;01mimport\u001b[39;00m datetime, timedelta\n\u001b[0;32m----> 2\u001b[0m \u001b[38;5;28;01mfrom\u001b[39;00m \u001b[38;5;21;01mscripts\u001b[39;00m\u001b[38;5;21;01m.\u001b[39;00m\u001b[38;5;21;01manalyze_stock\u001b[39;00m \u001b[38;5;28;01mimport\u001b[39;00m \u001b[38;5;241m*\u001b[39m  \n\u001b[1;32m      3\u001b[0m \u001b[38;5;28;01mfrom\u001b[39;00m \u001b[38;5;21;01mscripts\u001b[39;00m\u001b[38;5;21;01m.\u001b[39;00m\u001b[38;5;21;01mscrape_url\u001b[39;00m \u001b[38;5;28;01mimport\u001b[39;00m \u001b[38;5;241m*\u001b[39m\n\u001b[1;32m      4\u001b[0m \u001b[38;5;28;01mfrom\u001b[39;00m \u001b[38;5;21;01mscripts\u001b[39;00m\u001b[38;5;21;01m.\u001b[39;00m\u001b[38;5;21;01mplotting_routines\u001b[39;00m \u001b[38;5;28;01mimport\u001b[39;00m \u001b[38;5;241m*\u001b[39m\n",
      "\u001b[0;31mModuleNotFoundError\u001b[0m: No module named 'scripts'"
     ]
    }
   ],
   "source": [
    "import setup\n",
    "from datetime import datetime, timedelta\n",
    "from scripts.analyze_stock import *  \n",
    "from scripts.scrape_url import *\n",
    "from scripts.plotting_routines import *\n",
    "\n",
    "# Call the function and store the result\n",
    "day = '2024-06-25'\n",
    "date = datetime.strptime(day, '%Y-%m-%d')\n",
    "\n",
    "# Set the time frame\n",
    "end_date = date + timedelta(days=7)\n",
    "start_date = date - timedelta(days=7)\n",
    "\n",
    "# First page\n",
    "url = 'https://finance.yahoo.com/calendar/earnings/?day=' + day\n",
    "print(url)\n",
    "\n",
    "ticker_data_list = process_earnings_table(extract_table(url))\n",
    "    \n",
    "# Second page\n",
    "url += '&offset=100&size=100'\n",
    "\n",
    "ticker_data_list = process_earnings_table(extract_table(url), ticker_data_list)\n",
    "\n",
    "# Pandas Dataframe\n",
    "ticker_data_sorted = convert_to_dataframe(ticker_data_list)\n",
    "\n",
    "filtered_tickers = []\n",
    "\n",
    "# Iterate through the sorted list of tickers\n",
    "for index, row in ticker_data_sorted.iterrows():\n",
    "    ticker = row['Symbol']\n",
    "    \n",
    "    if ticker in filtered_tickers:\n",
    "        continue\n",
    "\n",
    "    # Use the function from utils.py to analyze stock options\n",
    "    options_metrics = analyze_stock_options(ticker)\n",
    "    \n",
    "    if options_metrics['total_itm_calls'] == 0 and options_metrics['total_itm_puts'] == 0:\n",
    "        continue\n",
    "\n",
    "    # Get All Analysis\n",
    "    print_options_data(ticker, options_metrics)\n",
    "\n",
    "    # Call the plot_stock_history method\n",
    "    plot_stock_history(ticker, start_date, end_date)\n",
    "\n",
    "    # IV Skew\n",
    "    plot_iv_skew_otm_only(options_metrics, end_date, ticker)\n",
    "\n",
    "    # Sector ETF Time Series\n",
    "    plot_etf_historical_data(ticker, start_date, end_date)\n",
    "\n",
    "    # Filtered tickers\n",
    "    filtered_tickers.append(ticker)\n",
    "    \n",
    "del filtered_tickers, ticker_data_list, ticker_data_sorted"
   ]
  }
 ],
 "metadata": {
  "kernelspec": {
   "display_name": "Python 3 (ipykernel)",
   "language": "python",
   "name": "python3"
  },
  "language_info": {
   "codemirror_mode": {
    "name": "ipython",
    "version": 3
   },
   "file_extension": ".py",
   "mimetype": "text/x-python",
   "name": "python",
   "nbconvert_exporter": "python",
   "pygments_lexer": "ipython3",
   "version": "3.9.6"
  }
 },
 "nbformat": 4,
 "nbformat_minor": 5
}
