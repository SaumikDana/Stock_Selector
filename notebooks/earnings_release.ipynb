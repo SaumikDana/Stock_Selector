{
 "cells": [
  {
   "cell_type": "code",
   "execution_count": 1,
   "id": "66c1c185",
   "metadata": {},
   "outputs": [
    {
     "name": "stderr",
     "output_type": "stream",
     "text": [
      "/Users/saumikdana/Library/Python/3.9/lib/python/site-packages/urllib3/__init__.py:35: NotOpenSSLWarning: urllib3 v2 only supports OpenSSL 1.1.1+, currently the 'ssl' module is compiled with 'LibreSSL 2.8.3'. See: https://github.com/urllib3/urllib3/issues/3020\n",
      "  warnings.warn(\n"
     ]
    },
    {
     "name": "stdout",
     "output_type": "stream",
     "text": [
      "https://finance.yahoo.com/calendar/earnings/?day=2024-07-03&offset=0&size=100\n"
     ]
    }
   ],
   "source": [
    "import setup\n",
    "from imports import *\n",
    "from scripts.analyze_stock import options_chain \n",
    "from scripts.scrape_url import extract_table, process_earnings_table, convert_to_dataframe\n",
    "from scripts.plotting_routines import plot_calls_puts_separately, plot_stock_history, plot_etf_historical_data\n",
    "\n",
    "day = '2024-07-03'\n",
    "date = datetime.strptime(day, '%Y-%m-%d')\n",
    "\n",
    "# Set the time frame\n",
    "end_date = date\n",
    "start_date = date - timedelta(days=28)\n",
    "\n",
    "ticker_data_list = []\n",
    "base_url = 'https://finance.yahoo.com/calendar/earnings/?day=' + day\n",
    "\n",
    "offset = 0\n",
    "while True:\n",
    "    url = f\"{base_url}&offset={offset}&size=100\"\n",
    "    print(url)\n",
    "    table = extract_table(url)\n",
    "    \n",
    "    if table is None:\n",
    "        break\n",
    "\n",
    "    ticker_data_list = process_earnings_table(table, ticker_data_list)\n",
    "    offset += 100  # Increment the offset by 100 for the next iteration\n",
    "\n",
    "ticker_data_sorted = convert_to_dataframe(ticker_data_list)\n",
    "\n",
    "filtered_tickers = []\n",
    "\n",
    "# Iterate through the sorted list of tickers\n",
    "for index, row in ticker_data_sorted.iterrows():\n",
    "    ticker = row['Symbol']\n",
    "    \n",
    "    if ticker in filtered_tickers:\n",
    "        continue\n",
    "\n",
    "    df = options_chain(ticker)\n",
    "\n",
    "    plot_calls_puts_separately(df, ticker)\n",
    "\n",
    "    plot_stock_history(ticker, start_date, end_date)\n",
    "\n",
    "    plot_etf_historical_data(ticker, start_date, end_date)\n",
    "\n",
    "    filtered_tickers.append(ticker)\n",
    "    \n",
    "del filtered_tickers, ticker_data_list, ticker_data_sorted"
   ]
  }
 ],
 "metadata": {
  "kernelspec": {
   "display_name": "Python 3 (ipykernel)",
   "language": "python",
   "name": "python3"
  },
  "language_info": {
   "codemirror_mode": {
    "name": "ipython",
    "version": 3
   },
   "file_extension": ".py",
   "mimetype": "text/x-python",
   "name": "python",
   "nbconvert_exporter": "python",
   "pygments_lexer": "ipython3",
   "version": "3.9.6"
  }
 },
 "nbformat": 4,
 "nbformat_minor": 5
}
