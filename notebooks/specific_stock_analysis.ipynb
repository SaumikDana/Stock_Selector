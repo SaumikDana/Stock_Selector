{
 "cells": [
  {
   "cell_type": "code",
   "execution_count": 7,
   "metadata": {},
   "outputs": [
    {
     "ename": "ValueError",
     "evalue": "too many values to unpack (expected 2)",
     "output_type": "error",
     "traceback": [
      "\u001b[0;31m---------------------------------------------------------------------------\u001b[0m",
      "\u001b[0;31mValueError\u001b[0m                                Traceback (most recent call last)",
      "Cell \u001b[0;32mIn[7], line 15\u001b[0m\n\u001b[1;32m     11\u001b[0m tickers \u001b[38;5;241m=\u001b[39m[\u001b[38;5;124m'\u001b[39m\u001b[38;5;124mapld\u001b[39m\u001b[38;5;124m'\u001b[39m, \u001b[38;5;124m'\u001b[39m\u001b[38;5;124maehr\u001b[39m\u001b[38;5;124m'\u001b[39m, \u001b[38;5;124m'\u001b[39m\u001b[38;5;124mgoss\u001b[39m\u001b[38;5;124m'\u001b[39m]\n\u001b[1;32m     13\u001b[0m \u001b[38;5;28;01mfor\u001b[39;00m ticker \u001b[38;5;129;01min\u001b[39;00m tickers:\n\u001b[0;32m---> 15\u001b[0m     options_metrics, _ \u001b[38;5;241m=\u001b[39m analyze_stock_options(ticker)\n\u001b[1;32m     17\u001b[0m     \u001b[38;5;66;03m# Call the plot_stock_history method\u001b[39;00m\n\u001b[1;32m     18\u001b[0m     plot_stock_history(ticker, start_date, end_date)\n",
      "\u001b[0;31mValueError\u001b[0m: too many values to unpack (expected 2)"
     ]
    }
   ],
   "source": [
    "import setup\n",
    "from imports import *\n",
    "from scripts.analyze_stock import * \n",
    "from scripts.plotting_routines import *\n",
    "\n",
    "# Set the time frame\n",
    "end_date = datetime.today()\n",
    "start_date = end_date - timedelta(days=21)\n",
    "\n",
    "# Call the function and store the result\n",
    "tickers =['apld', 'aehr', 'goss']\n",
    "\n",
    "for ticker in tickers:\n",
    "     \n",
    "    options_metrics, _ = analyze_stock_options(ticker)\n",
    "\n",
    "    # Call the plot_stock_history method\n",
    "    plot_stock_history(ticker, start_date, end_date)\n",
    "\n",
    "    # IV Skew\n",
    "    plot_iv_skew_otm_only(options_metrics, end_date, ticker)\n",
    "\n",
    "    # Sector ETF Time Series\n",
    "    plot_etf_historical_data(ticker, start_date, end_date)\n"
   ]
  }
 ],
 "metadata": {
  "kernelspec": {
   "display_name": "base",
   "language": "python",
   "name": "python3"
  },
  "language_info": {
   "codemirror_mode": {
    "name": "ipython",
    "version": 3
   },
   "file_extension": ".py",
   "mimetype": "text/x-python",
   "name": "python",
   "nbconvert_exporter": "python",
   "pygments_lexer": "ipython3",
   "version": "3.9.6"
  }
 },
 "nbformat": 4,
 "nbformat_minor": 2
}
